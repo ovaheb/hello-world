{
  "nbformat": 4,
  "nbformat_minor": 0,
  "metadata": {
    "colab": {
      "name": "AI-CA5.ipynb",
      "provenance": [],
      "collapsed_sections": [],
      "authorship_tag": "ABX9TyOhO+BHGvvNv0ZSUCK6Pshq",
      "include_colab_link": true
    },
    "kernelspec": {
      "name": "python3",
      "display_name": "Python 3"
    },
    "accelerator": "GPU"
  },
  "cells": [
    {
      "cell_type": "markdown",
      "metadata": {
        "id": "view-in-github",
        "colab_type": "text"
      },
      "source": [
        "<a href=\"https://colab.research.google.com/github/ovaheb/hello-world/blob/master/AI_CA5.ipynb\" target=\"_parent\"><img src=\"https://colab.research.google.com/assets/colab-badge.svg\" alt=\"Open In Colab\"/></a>"
      ]
    },
    {
      "cell_type": "code",
      "metadata": {
        "id": "Up7D6XpBGIu4",
        "colab_type": "code",
        "colab": {
          "base_uri": "https://localhost:8080/",
          "height": 34
        },
        "outputId": "72076209-08aa-47a6-e3b3-e27a37e74c4f"
      },
      "source": [
        "import torchvision\n",
        "import torch\n",
        "import matplotlib.pyplot as plt\n",
        "from torch.utils.data import Dataset, DataLoader, random_split\n",
        "from torchvision.datasets import ImageFolder\n",
        "from torch.utils.data.sampler import SubsetRandomSampler\n",
        "import torchvision.transforms as transforms\n",
        "import numpy as np\n",
        "from google.colab import drive\n",
        "import torch.nn as nn\n",
        "import torch.nn.functional as F\n",
        "import time\n",
        "from datetime import timedelta\n",
        "from datetime import datetime\n",
        "import pandas as pd\n",
        "drive.mount('/content/drive')"
      ],
      "execution_count": 1,
      "outputs": [
        {
          "output_type": "stream",
          "text": [
            "Drive already mounted at /content/drive; to attempt to forcibly remount, call drive.mount(\"/content/drive\", force_remount=True).\n"
          ],
          "name": "stdout"
        }
      ]
    },
    {
      "cell_type": "code",
      "metadata": {
        "id": "QWEmsQifUvZZ",
        "colab_type": "code",
        "colab": {}
      },
      "source": [
        "class CustomToTensor(object):\n",
        "    ## the input image must be grayscaled first\n",
        "    def __call__(self, image):\n",
        "        image = np.array(image, dtype = np.float32)\n",
        "        # numpy image: H x W\n",
        "        return torch.from_numpy(image)"
      ],
      "execution_count": 0,
      "outputs": []
    },
    {
      "cell_type": "code",
      "metadata": {
        "id": "WPc4b-mXn9td",
        "colab_type": "code",
        "colab": {}
      },
      "source": [
        "transform = transforms.Compose([transforms.Grayscale(), CustomToTensor()]) ## composes multiple transforms into single one\n",
        "dataset = ImageFolder(root = \"/content/drive/My Drive/categorized_products\", transform = transform)"
      ],
      "execution_count": 0,
      "outputs": []
    },
    {
      "cell_type": "code",
      "metadata": {
        "id": "ir5mmWNz2JC_",
        "colab_type": "code",
        "colab": {}
      },
      "source": [
        "batch_size = 64\n",
        "validation_split = 0.2\n",
        "random_seed = 7\n",
        "\n",
        "# Creating data indices for training and validation splits:\n",
        "indices = list(range(len(dataset))) # indices of the dataset\n",
        "n = len(dataset)  # total number of examples\n",
        "split = int(np.floor(validation_split * n))\n",
        "np.random.seed(random_seed)\n",
        "np.random.shuffle(indices)\n",
        "train_indices, test_indices = indices[split:], indices[:split]\n",
        "\n",
        "# Creating PT data samplers and loaders:\n",
        "train_sampler = SubsetRandomSampler(train_indices)\n",
        "test_sampler = SubsetRandomSampler(test_indices)\n",
        "\n",
        "train_loader = torch.utils.data.DataLoader(dataset, batch_size = batch_size, sampler = train_sampler, num_workers = 64)\n",
        "test_loader = torch.utils.data.DataLoader(dataset, batch_size = batch_size, sampler = test_sampler, num_workers = 64)"
      ],
      "execution_count": 0,
      "outputs": []
    },
    {
      "cell_type": "code",
      "metadata": {
        "id": "lhL91LHdn-Vv",
        "colab_type": "code",
        "colab": {}
      },
      "source": [
        "classes = dataset.classes"
      ],
      "execution_count": 0,
      "outputs": []
    },
    {
      "cell_type": "code",
      "metadata": {
        "id": "tinRvtXtB8ZL",
        "colab_type": "code",
        "colab": {}
      },
      "source": [
        "def imshow(img_array, labels, classes):\n",
        "    _, axs = plt.subplots(3, 4) \n",
        "    for i in range(3):\n",
        "      for j in range(4):\n",
        "        axs[i][j].imshow(img_array[i * 4 + j], cmap = 'gray')\n",
        "        axs[i][j].set_title(classes[labels[i * 4 + j]])\n",
        "        axs[i][j].axis('off')\n",
        "    plt.show()\n",
        "\n",
        "data_iter = iter(train_loader)\n",
        "images, labels = data_iter.next()\n",
        "while len(set(labels)) < 7:\n",
        "  images, labels = data_iter.next()\n",
        "imshow(images[0:12], labels[0:12], classes)"
      ],
      "execution_count": 0,
      "outputs": []
    },
    {
      "cell_type": "code",
      "metadata": {
        "id": "o7MyWAyG7AHr",
        "colab_type": "code",
        "colab": {}
      },
      "source": [
        "def get_number_distribution(loader, classes):\n",
        "  total_category_count = {classes[i] : 0 for i in range(len(classes))}\n",
        "  for _, labels in loader:\n",
        "    for label in labels:\n",
        "      total_category_count[ classes[label] ] += 1\n",
        "  result = []\n",
        "  for item in classes:\n",
        "    result.append(total_category_count[item])\n",
        "  return result"
      ],
      "execution_count": 0,
      "outputs": []
    },
    {
      "cell_type": "code",
      "metadata": {
        "id": "uPUxwXpj6fTh",
        "colab_type": "code",
        "colab": {}
      },
      "source": [
        "total_category_count = get_number_distribution(train_loader, classes)"
      ],
      "execution_count": 0,
      "outputs": []
    },
    {
      "cell_type": "code",
      "metadata": {
        "id": "heTYg1kc6fia",
        "colab_type": "code",
        "colab": {}
      },
      "source": [
        "df = pd.DataFrame({\"Category\":classes, \"Count\":total_category_count})\n",
        "plt.figure(figsize = (20,10))\n",
        "plt.bar('Category', 'Count', data = df)\n",
        "plt.xlabel(\"Category\", size = 15)\n",
        "plt.ylabel(\"Count\", size = 15)\n",
        "plt.title(\"Barplot of Category Distribution\", size = 18)\n",
        "plt.xticks(rotation = 90)\n",
        "plt.show()"
      ],
      "execution_count": 0,
      "outputs": []
    },
    {
      "cell_type": "code",
      "metadata": {
        "id": "Tlck5fyI4WOO",
        "colab_type": "code",
        "colab": {}
      },
      "source": [
        "dataset[0][0].shape"
      ],
      "execution_count": 0,
      "outputs": []
    },
    {
      "cell_type": "code",
      "metadata": {
        "id": "DKy8aKo26fpf",
        "colab_type": "code",
        "colab": {}
      },
      "source": [
        "criterion = nn.CrossEntropyLoss()\n",
        "batch_size = 64\n",
        "number_of_epochs = 10\n",
        "learning_rate = 0.01\n",
        "activation_function = F.relu\n",
        "class Model(nn.Module):\n",
        "    def __init__(self, class_num, act = activation_function):\n",
        "        super(Model, self).__init__()\n",
        "\n",
        "        self.layer1 = nn.Linear(1 * 80 * 60, 24 * 20 * 15)\n",
        "        self.act1 = act\n",
        "\n",
        "        self.layer2 = nn.Linear(24 * 20 * 15, 72 * 10 * 5)\n",
        "        self.act2 = act\n",
        "\n",
        "        self.layer3 = nn.Linear(72 * 10 * 5, 144 * 5 * 5)\n",
        "        self.act3 = act\n",
        "\n",
        "        self.layer4 = nn.Linear(144 * 5 * 5, 82)\n",
        "        self.act4 = act\n",
        "\n",
        "        self.layer5 = nn.Linear(82, class_num)\n",
        "\n",
        "    def forward(self, x):\n",
        "\n",
        "        x = x.view(x.size(0), -1)\n",
        "\n",
        "        x = self.layer1(x)\n",
        "        x = self.act1(x)\n",
        "\n",
        "        x = self.layer2(x)\n",
        "        x = self.act2(x)\n",
        "\n",
        "        x = self.layer3(x)\n",
        "        x = self.act3(x)\n",
        "\n",
        "        x = self.layer4(x)\n",
        "        x = self.act4(x)\n",
        "\n",
        "        x = self.layer5(x)\n",
        "        return x"
      ],
      "execution_count": 0,
      "outputs": []
    },
    {
      "cell_type": "code",
      "metadata": {
        "id": "R_MAkc6AyiVY",
        "colab_type": "code",
        "colab": {}
      },
      "source": [
        "device = torch.device(\"cuda:0\" if torch.cuda.is_available() else \"cpu\")\n",
        "print(device)"
      ],
      "execution_count": 0,
      "outputs": []
    },
    {
      "cell_type": "code",
      "metadata": {
        "id": "gy0eM7q4ym1J",
        "colab_type": "code",
        "colab": {}
      },
      "source": [
        "model = Model(len(classes))\n",
        "model = model.to(device)"
      ],
      "execution_count": 0,
      "outputs": []
    },
    {
      "cell_type": "code",
      "metadata": {
        "id": "XSTf1TIqyxmx",
        "colab_type": "code",
        "colab": {}
      },
      "source": [
        "optimizer = torch.optim.SGD(model.parameters(), lr = learning_rate)"
      ],
      "execution_count": 0,
      "outputs": []
    },
    {
      "cell_type": "code",
      "metadata": {
        "id": "O7Ado1n-y1AD",
        "colab_type": "code",
        "colab": {}
      },
      "source": [
        "def fit(model, train_loader, device, criterion, optimizer, num_epochs):\n",
        "\n",
        "  total_time = 0.\n",
        "\n",
        "  for epoch in range(num_epochs):\n",
        "      train_loss = 0.\n",
        "      d1 = datetime.now()\n",
        "      for images, labels in train_loader:\n",
        "          \n",
        "        images = images.to(device)\n",
        "        labels = labels.to(device)\n",
        "\n",
        "        # Clear gradients w.r.t. parameters\n",
        "        optimizer.zero_grad()\n",
        "\n",
        "        # Forward pass to get output/logits\n",
        "        outputs = model(images)\n",
        "\n",
        "        # Calculate Loss: softmax --> cross entropy loss\n",
        "        loss = criterion(outputs, labels)\n",
        "\n",
        "        # Getting gradients w.r.t. parameters\n",
        "        loss.backward()\n",
        "\n",
        "        # Updating parameters\n",
        "        optimizer.step()\n",
        "        train_loss += loss.item()\n",
        "\n",
        "      average_loss = train_loss / len(train_loader)\n",
        "      d2 = datetime.now()\n",
        "      delta = d2 - d1\n",
        "      seconds = float(delta.total_seconds())\n",
        "      total_time += seconds\n",
        "      print('epoch %d, train_loss: %.3f, time elapsed: %s seconds' % (epoch + 1, average_loss, seconds))\n",
        "  print('total training time: %.3f minutes' % (total_time / 60))"
      ],
      "execution_count": 0,
      "outputs": []
    },
    {
      "cell_type": "code",
      "metadata": {
        "id": "Dn8Hw-8-5HDC",
        "colab_type": "code",
        "colab": {}
      },
      "source": [
        "fit(model, train_loader, device, criterion, optimizer, number_of_epochs)"
      ],
      "execution_count": 0,
      "outputs": []
    },
    {
      "cell_type": "code",
      "metadata": {
        "id": "OmcH1GVA8Gbe",
        "colab_type": "code",
        "colab": {}
      },
      "source": [
        "def test_model_accuracy(model, test_loader):\n",
        "    # Calculate Accuracy         \n",
        "    correct = 0.\n",
        "    total = 0.\n",
        "    # Iterate through test dataset\n",
        "    with torch.no_grad():\n",
        "      for images, labels in test_loader:\n",
        "        outputs = model(images.to(device))\n",
        "        _, predicted = torch.max(outputs.data, 1)\n",
        "        total += labels.size(0)\n",
        "        correct += (predicted.to('cpu') == labels).sum().item()\n",
        "\n",
        "    accuracy = 100 * correct / total\n",
        "    print('Accuracy: {}%'.format(accuracy))\n",
        "test_model_accuracy(model, test_loader)"
      ],
      "execution_count": 0,
      "outputs": []
    }
  ]
}